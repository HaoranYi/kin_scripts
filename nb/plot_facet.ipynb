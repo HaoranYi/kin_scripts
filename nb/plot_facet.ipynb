{
 "cells": [
  {
   "cell_type": "code",
   "execution_count": null,
   "id": "ddd54f2e-b7c7-464a-bdce-c5474477144f",
   "metadata": {},
   "outputs": [],
   "source": [
    "%matplotlib inline\n",
    "\n",
    "from plotnine.data import mpg\n",
    "from plotnine import ggplot, aes, facet_grid, labs, geom_point, theme_dark\n",
    "\n",
    "mpg\n",
    "\n",
    "(\n",
    "    ggplot(mpg)\n",
    "    + facet_grid(facets=\"year~class\")\n",
    "    + aes(x=\"displ\", y=\"hwy\")\n",
    "    + labs(\n",
    "        x=\"Engine Size\",\n",
    "        y=\"Miles per Gallon\",\n",
    "        title=\"Miles per Gallon for Each Year and Vehicle Class\",\n",
    "    )\n",
    "    + geom_point()\n",
    "    + theme_dark()\n",
    ")\n"
   ]
  },
  {
   "cell_type": "code",
   "execution_count": null,
   "id": "da47a313-a434-431b-bc96-c6480830a9b7",
   "metadata": {},
   "outputs": [],
   "source": []
  }
 ],
 "metadata": {
  "kernelspec": {
   "display_name": "Python 3 (ipykernel)",
   "language": "python",
   "name": "python3"
  },
  "language_info": {
   "codemirror_mode": {
    "name": "ipython",
    "version": 3
   },
   "file_extension": ".py",
   "mimetype": "text/x-python",
   "name": "python",
   "nbconvert_exporter": "python",
   "pygments_lexer": "ipython3",
   "version": "3.9.13"
  }
 },
 "nbformat": 4,
 "nbformat_minor": 5
}
