{
 "cells": [
  {
   "cell_type": "code",
   "execution_count": null,
   "id": "3479d1f7-e346-496b-b733-50ff33b948fa",
   "metadata": {},
   "outputs": [],
   "source": [
    "import pandas as pd\n",
    "import numpy as np\n",
    "import matplotlib\n",
    "#import cufflinks as cf\n",
    "#import plotly\n",
    "#import plotly.offline as py\n",
    "#import plotly.graph_objs as go\n",
    "\n",
    "from plotnine import *\n",
    "\n"
   ]
  },
  {
   "cell_type": "code",
   "execution_count": null,
   "id": "d21d2c19-a056-45d9-beb2-c6422006cc04",
   "metadata": {},
   "outputs": [],
   "source": [
    "df = pd.read_csv('2023-03-22-17-05 Chronograf Data.csv')"
   ]
  },
  {
   "cell_type": "code",
   "execution_count": null,
   "id": "484ba52e-2fed-413e-b7e9-50372f7268ef",
   "metadata": {},
   "outputs": [],
   "source": [
    "df"
   ]
  },
  {
   "cell_type": "code",
   "execution_count": null,
   "id": "6d263ec3-91db-4f8f-ac43-eccdf5b800d3",
   "metadata": {},
   "outputs": [],
   "source": [
    "df_by_id = df.groupby('bank-new_from_parent-new_epoch_timings.host_id').max()"
   ]
  },
  {
   "cell_type": "code",
   "execution_count": null,
   "id": "6a03119d-4728-48d8-b977-29bfad367e9d",
   "metadata": {},
   "outputs": [],
   "source": [
    "df_by_id"
   ]
  },
  {
   "cell_type": "code",
   "execution_count": null,
   "id": "73e8a6b3-dbb3-459b-b0fb-06e6dc444a43",
   "metadata": {},
   "outputs": [],
   "source": [
    "df_by_id['bank-new_from_parent-new_epoch_timings.update_rewards_with_thread_pool_us'].describe()"
   ]
  },
  {
   "cell_type": "code",
   "execution_count": null,
   "id": "981fc07e-d43d-4ace-9592-8db808bd9c4f",
   "metadata": {},
   "outputs": [],
   "source": [
    "x1 = df_by_id['bank-new_from_parent-new_epoch_timings.update_rewards_with_thread_pool_us'].mean()\n",
    "x2 = df_by_id['bank-new_from_parent-new_epoch_timings.update_rewards_with_thread_pool_us'].quantile(q=0.9)\n",
    "[x1, x2]\n"
   ]
  },
  {
   "cell_type": "code",
   "execution_count": null,
   "id": "5b5998c1",
   "metadata": {},
   "outputs": [],
   "source": [
    "ggplot(aes(x='bank-new_from_parent-new_epoch_timings.update_rewards_with_thread_pool_us'), data=df_by_id) \\\n",
    "+ geom_density() \\\n",
    "+ xlim(0, 100*1e6) \\\n",
    "+ geom_vline(xintercept=[x1,x2], linetype='dotted')"
   ]
  },
  {
   "cell_type": "code",
   "execution_count": null,
   "id": "d4117066",
   "metadata": {},
   "outputs": [],
   "source": [
    "5428-4470"
   ]
  },
  {
   "cell_type": "code",
   "execution_count": null,
   "id": "a72217ff",
   "metadata": {},
   "outputs": [],
   "source": []
  }
 ],
 "metadata": {
  "kernelspec": {
   "display_name": "Python 3 (ipykernel)",
   "language": "python",
   "name": "python3"
  },
  "language_info": {
   "codemirror_mode": {
    "name": "ipython",
    "version": 3
   },
   "file_extension": ".py",
   "mimetype": "text/x-python",
   "name": "python",
   "nbconvert_exporter": "python",
   "pygments_lexer": "ipython3",
   "version": "3.10.7"
  }
 },
 "nbformat": 4,
 "nbformat_minor": 5
}
