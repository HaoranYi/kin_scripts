{
 "cells": [
  {
   "cell_type": "code",
   "execution_count": null,
   "id": "3479d1f7-e346-496b-b733-50ff33b948fa",
   "metadata": {},
   "outputs": [],
   "source": [
    "import pandas as pd\n",
    "import numpy as np\n",
    "import matplotlib\n",
    "#import cufflinks as cf\n",
    "#import plotly\n",
    "#import plotly.offline as py\n",
    "#import plotly.graph_objs as go\n"
   ]
  },
  {
   "cell_type": "code",
   "execution_count": null,
   "id": "d21d2c19-a056-45d9-beb2-c6422006cc04",
   "metadata": {},
   "outputs": [],
   "source": [
    "df = pd.read_csv('C:\\\\Users\\\\hyi\\\\Downloads\\\\2022-09-19-14-59 Chronograf Data.csv')"
   ]
  },
  {
   "cell_type": "code",
   "execution_count": null,
   "id": "484ba52e-2fed-413e-b7e9-50372f7268ef",
   "metadata": {},
   "outputs": [],
   "source": [
    "df"
   ]
  },
  {
   "cell_type": "code",
   "execution_count": null,
   "id": "6d263ec3-91db-4f8f-ac43-eccdf5b800d3",
   "metadata": {},
   "outputs": [],
   "source": [
    "df.iloc[11]"
   ]
  },
  {
   "cell_type": "code",
   "execution_count": null,
   "id": "6a03119d-4728-48d8-b977-29bfad367e9d",
   "metadata": {},
   "outputs": [],
   "source": [
    "df.groupby('host_id').max()"
   ]
  },
  {
   "cell_type": "code",
   "execution_count": null,
   "id": "73e8a6b3-dbb3-459b-b0fb-06e6dc444a43",
   "metadata": {},
   "outputs": [],
   "source": [
    "df.groupby('host_id').get_group('Edfkf9gpC7KpnkNdKRPmseCtkE1zY8fUVRJMbiLYKKdK').describe()"
   ]
  },
  {
   "cell_type": "code",
   "execution_count": null,
   "id": "981fc07e-d43d-4ace-9592-8db808bd9c4f",
   "metadata": {},
   "outputs": [],
   "source": []
  }
 ],
 "metadata": {
  "kernelspec": {
   "display_name": "Python 3 (ipykernel)",
   "language": "python",
   "name": "python3"
  },
  "language_info": {
   "codemirror_mode": {
    "name": "ipython",
    "version": 3
   },
   "file_extension": ".py",
   "mimetype": "text/x-python",
   "name": "python",
   "nbconvert_exporter": "python",
   "pygments_lexer": "ipython3",
   "version": "3.9.13"
  }
 },
 "nbformat": 4,
 "nbformat_minor": 5
}
